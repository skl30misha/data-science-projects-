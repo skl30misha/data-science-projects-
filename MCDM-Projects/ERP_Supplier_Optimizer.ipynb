{
  "nbformat": 4,
  "nbformat_minor": 0,
  "metadata": {
    "colab": {
      "provenance": [],
      "toc_visible": true,
      "authorship_tag": "ABX9TyMc9H/vSdU5700X3H0V1BWJ",
      "include_colab_link": true
    },
    "kernelspec": {
      "name": "python3",
      "display_name": "Python 3"
    },
    "language_info": {
      "name": "python"
    }
  },
  "cells": [
    {
      "cell_type": "markdown",
      "metadata": {
        "id": "view-in-github",
        "colab_type": "text"
      },
      "source": [
        "<a href=\"https://colab.research.google.com/github/skl30misha/data-science-projects-/blob/main/MCDM-Projects/ERP_Supplier_Optimizer.ipynb\" target=\"_parent\"><img src=\"https://colab.research.google.com/assets/colab-badge.svg\" alt=\"Open In Colab\"/></a>"
      ]
    },
    {
      "cell_type": "markdown",
      "source": [],
      "metadata": {
        "id": "oMjHny4_D7TK"
      }
    },
    {
      "cell_type": "markdown",
      "source": [],
      "metadata": {
        "id": "-N6EGXDMEgIZ"
      }
    },
    {
      "cell_type": "markdown",
      "source": [
        "# Task"
      ],
      "metadata": {
        "id": "8RDVcg5jHfuD"
      }
    },
    {
      "cell_type": "markdown",
      "source": [
        "Develop a decision-support tool for selecting the most suitable supplier using the AHP (Analytic Hierarchy Process) method.\n",
        "Each supplier is evaluated based on 10 criteria such as price, reliability, quality, and eco-friendliness.\n",
        "Some criteria are meant to be maximized (e.g., quality), while others are minimized (e.g., price).\n",
        "Goal:\n",
        "Automate the supplier evaluation and ranking process by incorporating AHP-based weights.\n",
        "The output ranks all suppliers and highlights the top candidate for partnership based on a weighted score."
      ],
      "metadata": {
        "id": "nDwZJ7_ZHiX3"
      }
    },
    {
      "cell_type": "markdown",
      "source": [
        "# Connection\n"
      ],
      "metadata": {
        "id": "4NyCw7NrEHLT"
      }
    },
    {
      "cell_type": "code",
      "source": [
        "from google.colab import drive\n",
        "drive.mount('/content/drive')\n",
        "import os\n",
        "os.chdir('/content/drive/MyDrive/Colab Notebooks/MCDM-Projects/ERP_Supplier_Optimizer')"
      ],
      "metadata": {
        "colab": {
          "base_uri": "https://localhost:8080/"
        },
        "id": "5f6rvRRzERMG",
        "outputId": "c52c15b5-6d7a-4afe-f68f-56fa0a1116b4"
      },
      "execution_count": 1,
      "outputs": [
        {
          "output_type": "stream",
          "name": "stdout",
          "text": [
            "Mounted at /content/drive\n"
          ]
        }
      ]
    },
    {
      "cell_type": "markdown",
      "source": [
        "# Import"
      ],
      "metadata": {
        "id": "yLSN1CcwFSl0"
      }
    },
    {
      "cell_type": "code",
      "source": [
        "\n",
        "import pandas as pd\n",
        "import matplotlib.pyplot as plt\n",
        "import seaborn as sns"
      ],
      "metadata": {
        "id": "n7mDFevXFVXx"
      },
      "execution_count": 2,
      "outputs": []
    },
    {
      "cell_type": "markdown",
      "source": [
        "# Supplier Scoring and Ranking using AHP"
      ],
      "metadata": {
        "id": "hfmjklSOGh6O"
      }
    },
    {
      "cell_type": "code",
      "source": [
        "# Load the Excel file\n",
        "df = pd.read_excel(\"ahp.xlsx\")\n",
        "\n",
        "# Check the structure of the DataFrame\n",
        "print(df.info())\n",
        "print(df.describe())\n",
        "print(df.shape)\n",
        "\n",
        "# Define weights for each criterion (from AHP)\n",
        "weights = {\n",
        "    'Supplier Reliability (Score)': 0.2246,\n",
        "    'Warranty Period (Months)': 0.1595,\n",
        "    'Unit Price (UAH)': 0.1593,\n",
        "    'Product Quality (Score)': 0.1334,\n",
        "    'Delivery Speed (Days)': 0.1078,\n",
        "    'Market Reputation (Score)': 0.0634,\n",
        "    'Payment Flexibility (Score)': 0.0576,\n",
        "    'Customer Rating (Score)': 0.0446,\n",
        "    'Rejection Rate (%)': 0.0307,\n",
        "    'Eco-Friendliness (Score)': 0.0191\n",
        "}\n",
        "\n",
        "# Define criteria to maximize and minimize\n",
        "maximize = [\n",
        "    'Product Quality (Score)',\n",
        "    'Supplier Reliability (Score)',\n",
        "    'Payment Flexibility (Score)',\n",
        "    'Eco-Friendliness (Score)',\n",
        "    'Warranty Period (Months)',\n",
        "    'Customer Rating (Score)',\n",
        "    'Market Reputation (Score)'\n",
        "]\n",
        "\n",
        "minimize = [\n",
        "    'Unit Price (UAH)',\n",
        "    'Delivery Speed (Days)',\n",
        "    'Rejection Rate (%)'\n",
        "]\n",
        "\n",
        "# Normalize the data\n",
        "df_norm = df.copy()\n",
        "for col in maximize:\n",
        "    df_norm[col] = df[col] / df[col].max()\n",
        "for col in minimize:\n",
        "    df_norm[col] = df[col].min() / df[col]\n",
        "\n",
        "# Calculate the overall AHP score\n",
        "df_norm['AHP Score'] = sum(df_norm[col] * weights[col] for col in weights)\n",
        "\n",
        "# Sort suppliers by score\n",
        "df_sorted = df_norm.sort_values(by='AHP Score', ascending=False).reset_index(drop=True)\n",
        "\n",
        "# Print ranked list of suppliers\n",
        "print(\"Supplier ranking:\")\n",
        "print(df_sorted[['Supplier', 'AHP Score']])\n",
        "# Print the best supplier\n",
        "print(\"\\nTop supplier:\")\n",
        "print(df_sorted[['Supplier', 'AHP Score']].iloc[0])\n",
        "\n"
      ],
      "metadata": {
        "colab": {
          "base_uri": "https://localhost:8080/"
        },
        "id": "oTEvfAbnGjqs",
        "outputId": "6d0e9974-b5cf-4ce6-f96a-e76b743e4a15"
      },
      "execution_count": 4,
      "outputs": [
        {
          "output_type": "stream",
          "name": "stdout",
          "text": [
            "<class 'pandas.core.frame.DataFrame'>\n",
            "RangeIndex: 11 entries, 0 to 10\n",
            "Data columns (total 12 columns):\n",
            " #   Column                        Non-Null Count  Dtype  \n",
            "---  ------                        --------------  -----  \n",
            " 0   Supplier                      10 non-null     object \n",
            " 1   Unit Price (UAH)              11 non-null     float64\n",
            " 2   Product Quality (Score)       10 non-null     float64\n",
            " 3   Supplier Reliability (Score)  10 non-null     float64\n",
            " 4   Delivery Speed (Days)         10 non-null     float64\n",
            " 5   Payment Flexibility (Score)   10 non-null     float64\n",
            " 6   Eco-Friendliness (Score)      10 non-null     float64\n",
            " 7   Warranty Period (Months)      10 non-null     float64\n",
            " 8   Customer Rating (Score)       10 non-null     float64\n",
            " 9   Rejection Rate (%)            10 non-null     float64\n",
            " 10  Market Reputation (Score)     10 non-null     float64\n",
            " 11  AHP Score                     10 non-null     float64\n",
            "dtypes: float64(11), object(1)\n",
            "memory usage: 1.2+ KB\n",
            "None\n",
            "       Unit Price (UAH)  Product Quality (Score)  \\\n",
            "count         11.000000                10.000000   \n",
            "mean           1.670714                 0.950549   \n",
            "std            2.494015                 0.033271   \n",
            "min            0.826087                 0.901099   \n",
            "25%            0.892196                 0.925824   \n",
            "50%            0.931373                 0.950549   \n",
            "75%            0.964691                 0.975275   \n",
            "max            9.188924                 1.000000   \n",
            "\n",
            "       Supplier Reliability (Score)  Delivery Speed (Days)  \\\n",
            "count                     10.000000              10.000000   \n",
            "mean                       0.936559               0.620000   \n",
            "std                        0.047401               0.228360   \n",
            "min                        0.860215               0.400000   \n",
            "25%                        0.905914               0.425000   \n",
            "50%                        0.935484               0.583333   \n",
            "75%                        0.975806               0.666667   \n",
            "max                        1.000000               1.000000   \n",
            "\n",
            "       Payment Flexibility (Score)  Eco-Friendliness (Score)  \\\n",
            "count                    10.000000                 10.000000   \n",
            "mean                      0.766667                  0.866667   \n",
            "std                       0.133024                  0.114755   \n",
            "min                       0.555556                  0.666667   \n",
            "25%                       0.666667                  0.777778   \n",
            "50%                       0.777778                  0.888889   \n",
            "75%                       0.861111                  0.972222   \n",
            "max                       1.000000                  1.000000   \n",
            "\n",
            "       Warranty Period (Months)  Customer Rating (Score)  Rejection Rate (%)  \\\n",
            "count                 10.000000                10.000000           10.000000   \n",
            "mean                   0.753333                 0.766667            0.471429   \n",
            "std                    0.144188                 0.179161            0.247576   \n",
            "min                    0.533333                 0.500000            0.166667   \n",
            "25%                    0.666667                 0.666667            0.270833   \n",
            "50%                    0.766667                 0.833333            0.500000   \n",
            "75%                    0.800000                 0.833333            0.500000   \n",
            "max                    1.000000                 1.000000            1.000000   \n",
            "\n",
            "       Market Reputation (Score)  AHP Score  \n",
            "count                  10.000000  10.000000  \n",
            "mean                    0.855556   0.838055  \n",
            "std                     0.128834   0.070944  \n",
            "min                     0.666667   0.721316  \n",
            "25%                     0.777778   0.781944  \n",
            "50%                     0.888889   0.845477  \n",
            "75%                     0.972222   0.882667  \n",
            "max                     1.000000   0.936297  \n",
            "(11, 12)\n",
            "Supplier ranking:\n",
            "      Supplier  AHP Score\n",
            "0   Supplier I   0.904046\n",
            "1   Supplier E   0.884339\n",
            "2   Supplier H   0.869751\n",
            "3   Supplier B   0.860989\n",
            "4   Supplier F   0.858549\n",
            "5   Supplier A   0.844858\n",
            "6   Supplier C   0.844805\n",
            "7   Supplier G   0.791826\n",
            "8   Supplier J   0.788099\n",
            "9   Supplier D   0.770165\n",
            "10         NaN        NaN\n",
            "\n",
            "Top supplier:\n",
            "Supplier     Supplier I\n",
            "AHP Score      0.904046\n",
            "Name: 0, dtype: object\n"
          ]
        }
      ]
    },
    {
      "cell_type": "markdown",
      "source": [
        "# Visualize the ranking"
      ],
      "metadata": {
        "id": "MxGVNesoG5Qu"
      }
    },
    {
      "cell_type": "code",
      "source": [
        "# Visualize the ranking\n",
        "plt.figure(figsize=(10, 6))\n",
        "sns.barplot(data=df_sorted, x=\"AHP Score\", y=\"Supplier\", palette=\"Blues_d\")\n",
        "plt.title(\"Supplier Ranking by AHP Score\")\n",
        "plt.xlabel(\"AHP Score\")\n",
        "plt.ylabel(\"Supplier\")\n",
        "plt.tight_layout()\n",
        "plt.show()"
      ],
      "metadata": {
        "colab": {
          "base_uri": "https://localhost:8080/",
          "height": 698
        },
        "id": "LQPzg9R8G-gI",
        "outputId": "0903a5fb-95a9-44df-c94d-30b1df9c222f"
      },
      "execution_count": 5,
      "outputs": [
        {
          "output_type": "stream",
          "name": "stderr",
          "text": [
            "<ipython-input-5-376a55b79353>:3: FutureWarning: \n",
            "\n",
            "Passing `palette` without assigning `hue` is deprecated and will be removed in v0.14.0. Assign the `y` variable to `hue` and set `legend=False` for the same effect.\n",
            "\n",
            "  sns.barplot(data=df_sorted, x=\"AHP Score\", y=\"Supplier\", palette=\"Blues_d\")\n"
          ]
        },
        {
          "output_type": "display_data",
          "data": {
            "text/plain": [
              "<Figure size 1000x600 with 1 Axes>"
            ],
            "image/png": "[encoded data removed]"
          },
          "metadata": {}
        }
      ]
    },
    {
      "cell_type": "markdown",
      "source": [
        "# Result"
      ],
      "metadata": {
        "id": "GEbrM5sxHGrB"
      }
    },
    {
      "cell_type": "markdown",
      "source": [
        "The decision-support tool successfully evaluated and ranked all suppliers using AHP-based weighted scoring.\n",
        "The supplier with the highest AHP Score is selected as the most suitable candidate for partnership.\n"
      ],
      "metadata": {
        "id": "zpiqAdNMHMUO"
      }
    }
  ]
}